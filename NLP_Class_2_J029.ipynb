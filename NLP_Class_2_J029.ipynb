{
  "nbformat": 4,
  "nbformat_minor": 0,
  "metadata": {
    "colab": {
      "name": "NLP_Class_2_J029.ipynb",
      "provenance": [],
      "include_colab_link": true
    },
    "kernelspec": {
      "name": "python3",
      "display_name": "Python 3"
    }
  },
  "cells": [
    {
      "cell_type": "markdown",
      "metadata": {
        "id": "view-in-github",
        "colab_type": "text"
      },
      "source": [
        "<a href=\"https://colab.research.google.com/github/Yash-Mahadeshwar/Facial-Recognition/blob/master/NLP_Class_2_J029.ipynb\" target=\"_parent\"><img src=\"https://colab.research.google.com/assets/colab-badge.svg\" alt=\"Open In Colab\"/></a>"
      ]
    },
    {
      "cell_type": "code",
      "metadata": {
        "id": "Vj-ExeOZfI15",
        "colab_type": "code",
        "colab": {}
      },
      "source": [
        "import nltk\n",
        "import pandas as pd\n",
        "import numpy as np"
      ],
      "execution_count": 0,
      "outputs": []
    },
    {
      "cell_type": "code",
      "metadata": {
        "id": "ker9bFzIiQLE",
        "colab_type": "code",
        "colab": {}
      },
      "source": [
        "data = pd.read_json('http://snap.stanford.edu/data/amazon/productGraph/categoryFiles/reviews_Office_Products_5.json.gz',lines =True)"
      ],
      "execution_count": 0,
      "outputs": []
    },
    {
      "cell_type": "code",
      "metadata": {
        "id": "1l9y99ShiVED",
        "colab_type": "code",
        "colab": {}
      },
      "source": [
        "vowels = ['a','i','e','u','o','A','E','I','O','U']"
      ],
      "execution_count": 0,
      "outputs": []
    },
    {
      "cell_type": "markdown",
      "metadata": {
        "id": "DAvqOG96S9rg",
        "colab_type": "text"
      },
      "source": [
        "# Class work"
      ]
    },
    {
      "cell_type": "code",
      "metadata": {
        "id": "EFNCTfiHiiFM",
        "colab_type": "code",
        "colab": {}
      },
      "source": [
        "def count(Sentence):\n",
        "  counter_dict = {}\n",
        "  for word in Sentence.lower().split():\n",
        "    if word not in counter_dict:\n",
        "      counter_dict[word] = 0\n",
        "    counter_dict[word] =+ 1   \n",
        "  return counter_dict"
      ],
      "execution_count": 0,
      "outputs": []
    },
    {
      "cell_type": "code",
      "metadata": {
        "id": "JapGWQ6BizF-",
        "colab_type": "code",
        "colab": {}
      },
      "source": [
        "def Check_Vow_Consonant(string, vowels = vowels): \n",
        "    final = [each for each in string if each in vowels]\n",
        "    final_consonant  = [each for each  in string if each not in vowels] \n",
        "    counter = {'vowels': len(final),'consonants': len(final_consonant)} \n",
        "    return counter\n",
        "     "
      ],
      "execution_count": 0,
      "outputs": []
    },
    {
      "cell_type": "code",
      "metadata": {
        "id": "TFRjQ8hTjJbm",
        "colab_type": "code",
        "colab": {}
      },
      "source": [
        "Review  = data.reviewText\n",
        "Sentence = Review[0]"
      ],
      "execution_count": 0,
      "outputs": []
    },
    {
      "cell_type": "code",
      "metadata": {
        "id": "0a0NK9jXjMZp",
        "colab_type": "code",
        "outputId": "747a31bf-52cd-4030-b69a-04248cd66e84",
        "colab": {
          "base_uri": "https://localhost:8080/",
          "height": 34
        }
      },
      "source": [
        "Check_Vow_Consonant(Sentence,vowels)"
      ],
      "execution_count": 7,
      "outputs": [
        {
          "output_type": "execute_result",
          "data": {
            "text/plain": [
              "{'consonants': 693, 'vowels': 279}"
            ]
          },
          "metadata": {
            "tags": []
          },
          "execution_count": 7
        }
      ]
    },
    {
      "cell_type": "code",
      "metadata": {
        "id": "bQt44pfdjU0L",
        "colab_type": "code",
        "colab": {}
      },
      "source": [
        "data['review_count_vowels'] = data.reviewText.apply(Check_Vow_Consonant)"
      ],
      "execution_count": 0,
      "outputs": []
    },
    {
      "cell_type": "markdown",
      "metadata": {
        "id": "G-tRgX_FTZKi",
        "colab_type": "text"
      },
      "source": [
        "# No of vowels and consonants"
      ]
    },
    {
      "cell_type": "code",
      "metadata": {
        "id": "dHAxmF6pkt5O",
        "colab_type": "code",
        "outputId": "59c9609f-1c1e-47e4-bc7d-1cd3376e0e16",
        "colab": {
          "base_uri": "https://localhost:8080/",
          "height": 84
        }
      },
      "source": [
        "data['review_count_vowels'].head(3)"
      ],
      "execution_count": 9,
      "outputs": [
        {
          "output_type": "execute_result",
          "data": {
            "text/plain": [
              "0      {'vowels': 279, 'consonants': 693}\n",
              "1    {'vowels': 1504, 'consonants': 3851}\n",
              "2      {'vowels': 134, 'consonants': 361}\n",
              "Name: review_count_vowels, dtype: object"
            ]
          },
          "metadata": {
            "tags": []
          },
          "execution_count": 9
        }
      ]
    },
    {
      "cell_type": "code",
      "metadata": {
        "colab_type": "code",
        "id": "LrB0W0CoV5Pp",
        "colab": {}
      },
      "source": [
        "punctuations = ['''!()-[]{};:'\"\\,<>./?@#$%^&*_~''']\n",
        "def remove_punctuations_fn(string):\n",
        "  no_punct = ''\n",
        "  for char in string:\n",
        "   if char not in punctuations:\n",
        "       no_punct = no_punct + char\n",
        "  return no_punct"
      ],
      "execution_count": 0,
      "outputs": []
    },
    {
      "cell_type": "code",
      "metadata": {
        "id": "uWBEiKfIrQcU",
        "colab_type": "code",
        "colab": {}
      },
      "source": [
        "data['review_count_vowels'] = data.reviewText.apply(remove_punctuations_fn)"
      ],
      "execution_count": 0,
      "outputs": []
    },
    {
      "cell_type": "code",
      "metadata": {
        "id": "RXDjcPs0rjHN",
        "colab_type": "code",
        "colab": {}
      },
      "source": [
        "data['review_count_vowels'] = data.reviewText.apply(Check_Vow_Consonant)"
      ],
      "execution_count": 0,
      "outputs": []
    },
    {
      "cell_type": "code",
      "metadata": {
        "id": "64DEjSyCrqni",
        "colab_type": "code",
        "outputId": "1a667842-4e09-4209-f08b-c8ce7e37e5a1",
        "colab": {
          "base_uri": "https://localhost:8080/",
          "height": 84
        }
      },
      "source": [
        "data['review_count_vowels'].head(3)"
      ],
      "execution_count": 14,
      "outputs": [
        {
          "output_type": "execute_result",
          "data": {
            "text/plain": [
              "0      {'vowels': 279, 'consonants': 693}\n",
              "1    {'vowels': 1504, 'consonants': 3851}\n",
              "2      {'vowels': 134, 'consonants': 361}\n",
              "Name: review_count_vowels, dtype: object"
            ]
          },
          "metadata": {
            "tags": []
          },
          "execution_count": 14
        }
      ]
    },
    {
      "cell_type": "markdown",
      "metadata": {
        "id": "nt-zMnEyr6kq",
        "colab_type": "text"
      },
      "source": [
        "# Regex\n"
      ]
    },
    {
      "cell_type": "code",
      "metadata": {
        "id": "K2jJORB-uWmk",
        "colab_type": "code",
        "outputId": "cc5bf230-1c55-4379-e5c4-79ab5f7404f6",
        "colab": {
          "base_uri": "https://localhost:8080/",
          "height": 101
        }
      },
      "source": [
        "!pip install regex"
      ],
      "execution_count": 15,
      "outputs": [
        {
          "output_type": "stream",
          "text": [
            "Collecting regex\n",
            "\u001b[?25l  Downloading https://files.pythonhosted.org/packages/e3/8e/cbf2295643d7265e7883326fb4654e643bfc93b3a8a8274d8010a39d8804/regex-2019.11.1-cp36-cp36m-manylinux1_x86_64.whl (643kB)\n",
            "\r\u001b[K     |▌                               | 10kB 17.9MB/s eta 0:00:01\r\u001b[K     |█                               | 20kB 3.3MB/s eta 0:00:01\r\u001b[K     |█▌                              | 30kB 4.7MB/s eta 0:00:01\r\u001b[K     |██                              | 40kB 3.0MB/s eta 0:00:01\r\u001b[K     |██▌                             | 51kB 3.7MB/s eta 0:00:01\r\u001b[K     |███                             | 61kB 4.4MB/s eta 0:00:01\r\u001b[K     |███▋                            | 71kB 5.0MB/s eta 0:00:01\r\u001b[K     |████                            | 81kB 5.7MB/s eta 0:00:01\r\u001b[K     |████▋                           | 92kB 6.3MB/s eta 0:00:01\r\u001b[K     |█████                           | 102kB 4.9MB/s eta 0:00:01\r\u001b[K     |█████▋                          | 112kB 4.9MB/s eta 0:00:01\r\u001b[K     |██████                          | 122kB 4.9MB/s eta 0:00:01\r\u001b[K     |██████▋                         | 133kB 4.9MB/s eta 0:00:01\r\u001b[K     |███████▏                        | 143kB 4.9MB/s eta 0:00:01\r\u001b[K     |███████▋                        | 153kB 4.9MB/s eta 0:00:01\r\u001b[K     |████████▏                       | 163kB 4.9MB/s eta 0:00:01\r\u001b[K     |████████▋                       | 174kB 4.9MB/s eta 0:00:01\r\u001b[K     |█████████▏                      | 184kB 4.9MB/s eta 0:00:01\r\u001b[K     |█████████▊                      | 194kB 4.9MB/s eta 0:00:01\r\u001b[K     |██████████▏                     | 204kB 4.9MB/s eta 0:00:01\r\u001b[K     |██████████▊                     | 215kB 4.9MB/s eta 0:00:01\r\u001b[K     |███████████▏                    | 225kB 4.9MB/s eta 0:00:01\r\u001b[K     |███████████▊                    | 235kB 4.9MB/s eta 0:00:01\r\u001b[K     |████████████▏                   | 245kB 4.9MB/s eta 0:00:01\r\u001b[K     |████████████▊                   | 256kB 4.9MB/s eta 0:00:01\r\u001b[K     |█████████████▎                  | 266kB 4.9MB/s eta 0:00:01\r\u001b[K     |█████████████▊                  | 276kB 4.9MB/s eta 0:00:01\r\u001b[K     |██████████████▎                 | 286kB 4.9MB/s eta 0:00:01\r\u001b[K     |██████████████▊                 | 296kB 4.9MB/s eta 0:00:01\r\u001b[K     |███████████████▎                | 307kB 4.9MB/s eta 0:00:01\r\u001b[K     |███████████████▉                | 317kB 4.9MB/s eta 0:00:01\r\u001b[K     |████████████████▎               | 327kB 4.9MB/s eta 0:00:01\r\u001b[K     |████████████████▉               | 337kB 4.9MB/s eta 0:00:01\r\u001b[K     |█████████████████▎              | 348kB 4.9MB/s eta 0:00:01\r\u001b[K     |█████████████████▉              | 358kB 4.9MB/s eta 0:00:01\r\u001b[K     |██████████████████▎             | 368kB 4.9MB/s eta 0:00:01\r\u001b[K     |██████████████████▉             | 378kB 4.9MB/s eta 0:00:01\r\u001b[K     |███████████████████▍            | 389kB 4.9MB/s eta 0:00:01\r\u001b[K     |███████████████████▉            | 399kB 4.9MB/s eta 0:00:01\r\u001b[K     |████████████████████▍           | 409kB 4.9MB/s eta 0:00:01\r\u001b[K     |████████████████████▉           | 419kB 4.9MB/s eta 0:00:01\r\u001b[K     |█████████████████████▍          | 430kB 4.9MB/s eta 0:00:01\r\u001b[K     |██████████████████████          | 440kB 4.9MB/s eta 0:00:01\r\u001b[K     |██████████████████████▍         | 450kB 4.9MB/s eta 0:00:01\r\u001b[K     |███████████████████████         | 460kB 4.9MB/s eta 0:00:01\r\u001b[K     |███████████████████████▍        | 471kB 4.9MB/s eta 0:00:01\r\u001b[K     |████████████████████████        | 481kB 4.9MB/s eta 0:00:01\r\u001b[K     |████████████████████████▍       | 491kB 4.9MB/s eta 0:00:01\r\u001b[K     |█████████████████████████       | 501kB 4.9MB/s eta 0:00:01\r\u001b[K     |█████████████████████████▌      | 512kB 4.9MB/s eta 0:00:01\r\u001b[K     |██████████████████████████      | 522kB 4.9MB/s eta 0:00:01\r\u001b[K     |██████████████████████████▌     | 532kB 4.9MB/s eta 0:00:01\r\u001b[K     |███████████████████████████     | 542kB 4.9MB/s eta 0:00:01\r\u001b[K     |███████████████████████████▌    | 552kB 4.9MB/s eta 0:00:01\r\u001b[K     |████████████████████████████    | 563kB 4.9MB/s eta 0:00:01\r\u001b[K     |████████████████████████████▌   | 573kB 4.9MB/s eta 0:00:01\r\u001b[K     |█████████████████████████████   | 583kB 4.9MB/s eta 0:00:01\r\u001b[K     |█████████████████████████████▌  | 593kB 4.9MB/s eta 0:00:01\r\u001b[K     |██████████████████████████████  | 604kB 4.9MB/s eta 0:00:01\r\u001b[K     |██████████████████████████████▌ | 614kB 4.9MB/s eta 0:00:01\r\u001b[K     |███████████████████████████████ | 624kB 4.9MB/s eta 0:00:01\r\u001b[K     |███████████████████████████████▋| 634kB 4.9MB/s eta 0:00:01\r\u001b[K     |████████████████████████████████| 645kB 4.9MB/s \n",
            "\u001b[?25hInstalling collected packages: regex\n",
            "Successfully installed regex-2019.11.1\n"
          ],
          "name": "stdout"
        }
      ]
    },
    {
      "cell_type": "markdown",
      "metadata": {
        "id": "_cBirnHhTg61",
        "colab_type": "text"
      },
      "source": [
        "## Start with b and end with G"
      ]
    },
    {
      "cell_type": "code",
      "metadata": {
        "id": "hCQvzDgquZaO",
        "colab_type": "code",
        "colab": {}
      },
      "source": [
        "import regex as re"
      ],
      "execution_count": 0,
      "outputs": []
    },
    {
      "cell_type": "code",
      "metadata": {
        "id": "W7JahIJwu8ml",
        "colab_type": "code",
        "colab": {}
      },
      "source": [
        "def reg1(Sentence):\n",
        "  \n",
        "  x = re.findall(r'\\b[Bb]\\w+',Sentence)\n",
        "  y = re.findall(r\"\\b\\w+[gG]\\b\",Sentence)\n",
        "  reg_d = {'starts with b': x,'ends with g': y}\n",
        "  return reg_d\n",
        "\n",
        "\n"
      ],
      "execution_count": 0,
      "outputs": []
    },
    {
      "cell_type": "code",
      "metadata": {
        "id": "zr2iIL1NvFiF",
        "colab_type": "code",
        "colab": {}
      },
      "source": [
        "data['reg1'] = data.reviewText.apply(reg1)"
      ],
      "execution_count": 0,
      "outputs": []
    },
    {
      "cell_type": "code",
      "metadata": {
        "id": "vuFM60rkwWD3",
        "colab_type": "code",
        "outputId": "2513fde1-cd51-4224-cc1d-676a5426dcb9",
        "colab": {
          "base_uri": "https://localhost:8080/",
          "height": 118
        }
      },
      "source": [
        "data['reg1'].head()"
      ],
      "execution_count": 19,
      "outputs": [
        {
          "output_type": "execute_result",
          "data": {
            "text/plain": [
              "0    {'starts with b': ['bought', 'but', 'by', 'buy...\n",
              "1    {'starts with b': ['BELATED', 'burying', 'bran...\n",
              "2    {'starts with b': ['been', 'But'], 'ends with ...\n",
              "3    {'starts with b': ['been', 'because', 'but', '...\n",
              "4    {'starts with b': ['best', 'business', 'but', ...\n",
              "Name: reg1, dtype: object"
            ]
          },
          "metadata": {
            "tags": []
          },
          "execution_count": 19
        }
      ]
    },
    {
      "cell_type": "markdown",
      "metadata": {
        "id": "vNCkVnEIT9Mc",
        "colab_type": "text"
      },
      "source": [
        "#  HW"
      ]
    },
    {
      "cell_type": "code",
      "metadata": {
        "id": "cXMIy2Dyy0Jd",
        "colab_type": "code",
        "colab": {}
      },
      "source": [
        "def reg2(Sentence):\n",
        "  x = re.findall(r'\\b\\w+[Bb]\\w+ ',Sentence)\n",
        "  y = re.findall(r' \\b\\w+[gG]\\w+\\b',Sentence)\n",
        "  reg_d1 = {' not starts with b': x,'not end with g':y}\n",
        "  return reg_d1\n"
      ],
      "execution_count": 0,
      "outputs": []
    },
    {
      "cell_type": "code",
      "metadata": {
        "id": "zbroALM1Ceen",
        "colab_type": "code",
        "outputId": "744ec635-c01b-4355-c0fa-4fc4716c0be7",
        "colab": {
          "base_uri": "https://localhost:8080/",
          "height": 50
        }
      },
      "source": [
        "reg2(Sentence)"
      ],
      "execution_count": 21,
      "outputs": [
        {
          "output_type": "execute_result",
          "data": {
            "text/plain": [
              "{' not starts with b': ['about ', 'reliable '],\n",
              " 'not end with g': [' bought', ' flagship', ' programmable']}"
            ]
          },
          "metadata": {
            "tags": []
          },
          "execution_count": 21
        }
      ]
    },
    {
      "cell_type": "code",
      "metadata": {
        "id": "ZdheeQNTChx4",
        "colab_type": "code",
        "colab": {}
      },
      "source": [
        "data['reg2'] = data.reviewText.apply(reg2)"
      ],
      "execution_count": 0,
      "outputs": []
    },
    {
      "cell_type": "code",
      "metadata": {
        "id": "o5oIgvuVCsU7",
        "colab_type": "code",
        "outputId": "d20b250d-8bcc-499b-b226-f6a435c5c153",
        "colab": {
          "base_uri": "https://localhost:8080/",
          "height": 84
        }
      },
      "source": [
        "data['reg2'].head(3)"
      ],
      "execution_count": 23,
      "outputs": [
        {
          "output_type": "execute_result",
          "data": {
            "text/plain": [
              "0    {' not starts with b': ['about ', 'reliable ']...\n",
              "1    {' not starts with b': ['obliged ', 'about ', ...\n",
              "2    {' not starts with b': ['about ', 'number ', '...\n",
              "Name: reg2, dtype: object"
            ]
          },
          "metadata": {
            "tags": []
          },
          "execution_count": 23
        }
      ]
    },
    {
      "cell_type": "code",
      "metadata": {
        "id": "wx57-JPSCxhP",
        "colab_type": "code",
        "outputId": "163186b2-06d4-428f-8fe4-0225b3c6a6ba",
        "colab": {
          "base_uri": "https://localhost:8080/",
          "height": 218
        }
      },
      "source": [
        "data['reg2']"
      ],
      "execution_count": 24,
      "outputs": [
        {
          "output_type": "execute_result",
          "data": {
            "text/plain": [
              "0        {' not starts with b': ['about ', 'reliable ']...\n",
              "1        {' not starts with b': ['obliged ', 'about ', ...\n",
              "2        {' not starts with b': ['about ', 'number ', '...\n",
              "3        {' not starts with b': ['probably ', 'keyboard...\n",
              "4        {' not starts with b': [], 'not end with g': [...\n",
              "                               ...                        \n",
              "53253    {' not starts with b': ['about ', 'cable ', 'l...\n",
              "53254    {' not starts with b': ['able ', 'cable ', 'ca...\n",
              "53255    {' not starts with b': ['website ', 'assembly ...\n",
              "53256    {' not starts with b': ['incredibly ', 'proble...\n",
              "53257    {' not starts with b': ['number ', 'about ', '...\n",
              "Name: reg2, Length: 53258, dtype: object"
            ]
          },
          "metadata": {
            "tags": []
          },
          "execution_count": 24
        }
      ]
    },
    {
      "cell_type": "code",
      "metadata": {
        "id": "Jk7ox8O6DppF",
        "colab_type": "code",
        "outputId": "d8d4e990-21b3-497c-db0f-a8a3d02c7e90",
        "colab": {
          "base_uri": "https://localhost:8080/",
          "height": 54
        }
      },
      "source": [
        "data['reviewText'][0]"
      ],
      "execution_count": 25,
      "outputs": [
        {
          "output_type": "execute_result",
          "data": {
            "text/plain": [
              "\"I bought my first HP12C in about 1984 or so, and it served me faithfully until 2002 when I lost it while travelling.  I searched for another one to replace it, but found one difficult to come by in my area.  So, I decided to buy up and purchased an HP 49G.  What a mistake!  I know that many people view the HP 49G (now 49G+) as the flagship of the HP line, but for me that was a disaster.The 49G may be powerful, but using it is extremely counterintuitive...and the manual was sketchy at best.  The 12C, on the other hand, does what I need in a way that makes good sense to me.If you are looking for a solid, reliable calculator, the HP12C may be for you.  It's programmable.  It does basic statistics well, and many business applications too.  The manual makes sense; you will be up and running in short order.I'm ready to set my 49G aside and move back to my old friend.  I didn't even have to replace the batteries in well over a decade of use!HP 12C, I'm coming home!\""
            ]
          },
          "metadata": {
            "tags": []
          },
          "execution_count": 25
        }
      ]
    },
    {
      "cell_type": "code",
      "metadata": {
        "id": "wQq0yBs4Ekse",
        "colab_type": "code",
        "colab": {}
      },
      "source": [
        ""
      ],
      "execution_count": 0,
      "outputs": []
    }
  ]
}