{
  "nbformat": 4,
  "nbformat_minor": 0,
  "metadata": {
    "colab": {
      "name": "NLP_Class_2_J029.ipynb",
      "provenance": [],
      "include_colab_link": true
    },
    "kernelspec": {
      "name": "python3",
      "display_name": "Python 3"
    }
  },
  "cells": [
    {
      "cell_type": "markdown",
      "metadata": {
        "id": "view-in-github",
        "colab_type": "text"
      },
      "source": [
        "<a href=\"https://colab.research.google.com/github/Yash-Mahadeshwar/Facial-Recognition/blob/master/NLP_Class_2_J029.ipynb\" target=\"_parent\"><img src=\"https://colab.research.google.com/assets/colab-badge.svg\" alt=\"Open In Colab\"/></a>"
      ]
    },
    {
      "cell_type": "code",
      "metadata": {
        "id": "Vj-ExeOZfI15",
        "colab_type": "code",
        "colab": {}
      },
      "source": [
        "import nltk\n",
        "import pandas as pd\n",
        "import numpy as np"
      ],
      "execution_count": 0,
      "outputs": []
    },
    {
      "cell_type": "code",
      "metadata": {
        "id": "ker9bFzIiQLE",
        "colab_type": "code",
        "colab": {}
      },
      "source": [
        "data = pd.read_json('http://snap.stanford.edu/data/amazon/productGraph/categoryFiles/reviews_Office_Products_5.json.gz',lines =True)"
      ],
      "execution_count": 0,
      "outputs": []
    },
    {
      "cell_type": "code",
      "metadata": {
        "id": "1l9y99ShiVED",
        "colab_type": "code",
        "colab": {}
      },
      "source": [
        "vowels = ['a','i','e','u','o','A','E','I','O','U']"
      ],
      "execution_count": 0,
      "outputs": []
    },
    {
      "cell_type": "code",
      "metadata": {
        "id": "EFNCTfiHiiFM",
        "colab_type": "code",
        "colab": {}
      },
      "source": [
        "def count(Sentence):\n",
        "  counter_dict = {}\n",
        "  for word in Sentence.lower().split():\n",
        "    if word not in counter_dict:\n",
        "      counter_dict[word] = 0\n",
        "    counter_dict[word] =+ 1   \n",
        "  return counter_dict"
      ],
      "execution_count": 0,
      "outputs": []
    },
    {
      "cell_type": "code",
      "metadata": {
        "id": "JapGWQ6BizF-",
        "colab_type": "code",
        "colab": {}
      },
      "source": [
        "def Check_Vow_Consonant(string, vowels = vowels): \n",
        "    final = [each for each in string if each in vowels]\n",
        "    final_consonant  = [each for each  in string if each not in vowels] \n",
        "    counter = {'vowels': len(final),'consonants': len(final_consonant)} \n",
        "    return counter\n",
        "     "
      ],
      "execution_count": 0,
      "outputs": []
    },
    {
      "cell_type": "code",
      "metadata": {
        "id": "TFRjQ8hTjJbm",
        "colab_type": "code",
        "colab": {}
      },
      "source": [
        "Review  = data.reviewText\n",
        "Sentence = Review[0]"
      ],
      "execution_count": 0,
      "outputs": []
    },
    {
      "cell_type": "code",
      "metadata": {
        "id": "0a0NK9jXjMZp",
        "colab_type": "code",
        "outputId": "e69c0c97-1a93-4faf-dc52-5a08e3591bee",
        "colab": {
          "base_uri": "https://localhost:8080/",
          "height": 34
        }
      },
      "source": [
        "Check_Vow_Consonant(Sentence,vowels)"
      ],
      "execution_count": 0,
      "outputs": [
        {
          "output_type": "execute_result",
          "data": {
            "text/plain": [
              "{'consonants': 693, 'vowels': 279}"
            ]
          },
          "metadata": {
            "tags": []
          },
          "execution_count": 32
        }
      ]
    },
    {
      "cell_type": "code",
      "metadata": {
        "id": "bQt44pfdjU0L",
        "colab_type": "code",
        "colab": {}
      },
      "source": [
        "data['review_count_vowels'] = data.reviewText.apply(Check_Vow_Consonant)"
      ],
      "execution_count": 0,
      "outputs": []
    },
    {
      "cell_type": "code",
      "metadata": {
        "id": "dHAxmF6pkt5O",
        "colab_type": "code",
        "outputId": "6707fcbc-85ef-45b7-ec12-6c2ad62ab8bc",
        "colab": {
          "base_uri": "https://localhost:8080/",
          "height": 84
        }
      },
      "source": [
        "data['review_count_vowels'].head(3)"
      ],
      "execution_count": 0,
      "outputs": [
        {
          "output_type": "execute_result",
          "data": {
            "text/plain": [
              "0      {'vowels': 279, 'consonants': 693}\n",
              "1    {'vowels': 1504, 'consonants': 3851}\n",
              "2      {'vowels': 134, 'consonants': 361}\n",
              "Name: review_count_vowels, dtype: object"
            ]
          },
          "metadata": {
            "tags": []
          },
          "execution_count": 34
        }
      ]
    },
    {
      "cell_type": "code",
      "metadata": {
        "id": "RqXeuvp1k_15",
        "colab_type": "code",
        "colab": {}
      },
      "source": [
        "punctuations = ['''!()-[]{};:'\"\\,<>./?@#$%^&*_~''']\n",
        "def remove_punctuations_fn(string):\n",
        "  no_punct = ''\n",
        "  for char in string:\n",
        "   if char not in punctuations:\n",
        "       no_punct = no_punct + char\n",
        "  return no_punct"
      ],
      "execution_count": 0,
      "outputs": []
    },
    {
      "cell_type": "code",
      "metadata": {
        "id": "IC2NwyBPqyJx",
        "colab_type": "code",
        "outputId": "16d8521c-72d7-46cc-881a-d875d3d10437",
        "colab": {
          "base_uri": "https://localhost:8080/",
          "height": 54
        }
      },
      "source": [
        "remove_punctuations_fn(Sentence)"
      ],
      "execution_count": 0,
      "outputs": [
        {
          "output_type": "execute_result",
          "data": {
            "text/plain": [
              "\"I bought my first HP12C in about 1984 or so, and it served me faithfully until 2002 when I lost it while travelling.  I searched for another one to replace it, but found one difficult to come by in my area.  So, I decided to buy up and purchased an HP 49G.  What a mistake!  I know that many people view the HP 49G (now 49G+) as the flagship of the HP line, but for me that was a disaster.The 49G may be powerful, but using it is extremely counterintuitive...and the manual was sketchy at best.  The 12C, on the other hand, does what I need in a way that makes good sense to me.If you are looking for a solid, reliable calculator, the HP12C may be for you.  It's programmable.  It does basic statistics well, and many business applications too.  The manual makes sense; you will be up and running in short order.I'm ready to set my 49G aside and move back to my old friend.  I didn't even have to replace the batteries in well over a decade of use!HP 12C, I'm coming home!\""
            ]
          },
          "metadata": {
            "tags": []
          },
          "execution_count": 44
        }
      ]
    },
    {
      "cell_type": "code",
      "metadata": {
        "id": "uWBEiKfIrQcU",
        "colab_type": "code",
        "colab": {}
      },
      "source": [
        "data['review_count_vowels'] = data.reviewText.apply(remove_punctuations_fn)"
      ],
      "execution_count": 0,
      "outputs": []
    },
    {
      "cell_type": "code",
      "metadata": {
        "id": "RXDjcPs0rjHN",
        "colab_type": "code",
        "colab": {}
      },
      "source": [
        "data['review_count_vowels'] = data.reviewText.apply(Check_Vow_Consonant)"
      ],
      "execution_count": 0,
      "outputs": []
    },
    {
      "cell_type": "code",
      "metadata": {
        "id": "64DEjSyCrqni",
        "colab_type": "code",
        "outputId": "b32342bd-2a27-4d88-d411-a56787e90a9e",
        "colab": {
          "base_uri": "https://localhost:8080/",
          "height": 84
        }
      },
      "source": [
        "data['review_count_vowels'].head(3)"
      ],
      "execution_count": 0,
      "outputs": [
        {
          "output_type": "execute_result",
          "data": {
            "text/plain": [
              "0      {'vowels': 279, 'consonants': 693}\n",
              "1    {'vowels': 1504, 'consonants': 3851}\n",
              "2      {'vowels': 134, 'consonants': 361}\n",
              "Name: review_count_vowels, dtype: object"
            ]
          },
          "metadata": {
            "tags": []
          },
          "execution_count": 49
        }
      ]
    },
    {
      "cell_type": "markdown",
      "metadata": {
        "id": "nt-zMnEyr6kq",
        "colab_type": "text"
      },
      "source": [
        "## Regex\n"
      ]
    },
    {
      "cell_type": "code",
      "metadata": {
        "id": "K2jJORB-uWmk",
        "colab_type": "code",
        "outputId": "84048827-60ab-4ee3-86f4-91d6ed61e043",
        "colab": {
          "base_uri": "https://localhost:8080/",
          "height": 101
        }
      },
      "source": [
        "!pip install regex"
      ],
      "execution_count": 0,
      "outputs": [
        {
          "output_type": "stream",
          "text": [
            "Collecting regex\n",
            "\u001b[?25l  Downloading https://files.pythonhosted.org/packages/e3/8e/cbf2295643d7265e7883326fb4654e643bfc93b3a8a8274d8010a39d8804/regex-2019.11.1-cp36-cp36m-manylinux1_x86_64.whl (643kB)\n",
            "\u001b[K     |████████████████████████████████| 645kB 2.8MB/s \n",
            "\u001b[?25hInstalling collected packages: regex\n",
            "Successfully installed regex-2019.11.1\n"
          ],
          "name": "stdout"
        }
      ]
    },
    {
      "cell_type": "code",
      "metadata": {
        "id": "hCQvzDgquZaO",
        "colab_type": "code",
        "colab": {}
      },
      "source": [
        "import regex as re"
      ],
      "execution_count": 0,
      "outputs": []
    },
    {
      "cell_type": "code",
      "metadata": {
        "id": "W7JahIJwu8ml",
        "colab_type": "code",
        "colab": {}
      },
      "source": [
        "def reg1(Sentence):\n",
        "  \n",
        "  x = re.findall(r'\\b[Bb]\\w+',Sentence)\n",
        "  y = re.findall(r\"\\b\\w+[gG]\\b\",Sentence)\n",
        "  reg_d = {'starts with b': x,'ends with g': y}\n",
        "  return reg_d\n",
        "\n",
        "\n"
      ],
      "execution_count": 0,
      "outputs": []
    },
    {
      "cell_type": "code",
      "metadata": {
        "id": "zr2iIL1NvFiF",
        "colab_type": "code",
        "colab": {}
      },
      "source": [
        "data['reg1'] = data.reviewText.apply(reg1)"
      ],
      "execution_count": 0,
      "outputs": []
    },
    {
      "cell_type": "code",
      "metadata": {
        "id": "vuFM60rkwWD3",
        "colab_type": "code",
        "outputId": "c890394b-caa7-492a-d0d9-3aa0e5677965",
        "colab": {
          "base_uri": "https://localhost:8080/",
          "height": 118
        }
      },
      "source": [
        "data['reg1'].head()"
      ],
      "execution_count": 0,
      "outputs": [
        {
          "output_type": "execute_result",
          "data": {
            "text/plain": [
              "0    {'starts with b': ['bought', 'but', 'by', 'buy...\n",
              "1    {'starts with b': ['BELATED', 'burying', 'bran...\n",
              "2    {'starts with b': ['been', 'But'], 'ends with ...\n",
              "3    {'starts with b': ['been', 'because', 'but', '...\n",
              "4    {'starts with b': ['best', 'business', 'but', ...\n",
              "Name: reg1, dtype: object"
            ]
          },
          "metadata": {
            "tags": []
          },
          "execution_count": 143
        }
      ]
    },
    {
      "cell_type": "code",
      "metadata": {
        "id": "cXMIy2Dyy0Jd",
        "colab_type": "code",
        "colab": {}
      },
      "source": [
        "def reg2(Sentence):\n",
        "  x = re.findall(r'\\b\\w+[Bb]\\w+ ',Sentence)\n",
        "  y = re.findall(r' \\b\\w+[gG]\\w+\\b',Sentence)\n",
        "  reg_d1 = {' not starts with b': x,'not end with g':y}\n",
        "  return reg_d1\n"
      ],
      "execution_count": 0,
      "outputs": []
    },
    {
      "cell_type": "code",
      "metadata": {
        "id": "zbroALM1Ceen",
        "colab_type": "code",
        "colab": {
          "base_uri": "https://localhost:8080/",
          "height": 50
        },
        "outputId": "0f2c317f-cb51-41dc-94b9-bdcd2d7f9c19"
      },
      "source": [
        "reg2(Sentence)"
      ],
      "execution_count": 161,
      "outputs": [
        {
          "output_type": "execute_result",
          "data": {
            "text/plain": [
              "{' not starts with b': ['about ', 'reliable '],\n",
              " 'not end with g': [' bought', ' flagship', ' programmable']}"
            ]
          },
          "metadata": {
            "tags": []
          },
          "execution_count": 161
        }
      ]
    },
    {
      "cell_type": "code",
      "metadata": {
        "id": "ZdheeQNTChx4",
        "colab_type": "code",
        "colab": {}
      },
      "source": [
        "data['reg2'] = data.reviewText.apply(reg2)"
      ],
      "execution_count": 0,
      "outputs": []
    },
    {
      "cell_type": "code",
      "metadata": {
        "id": "o5oIgvuVCsU7",
        "colab_type": "code",
        "colab": {
          "base_uri": "https://localhost:8080/",
          "height": 84
        },
        "outputId": "6a842124-b8b1-4362-e58f-84d20abdf823"
      },
      "source": [
        "data['reg2'].head(3)"
      ],
      "execution_count": 163,
      "outputs": [
        {
          "output_type": "execute_result",
          "data": {
            "text/plain": [
              "0    {' not starts with b': ['about ', 'reliable ']...\n",
              "1    {' not starts with b': ['obliged ', 'about ', ...\n",
              "2    {' not starts with b': ['about ', 'number ', '...\n",
              "Name: reg2, dtype: object"
            ]
          },
          "metadata": {
            "tags": []
          },
          "execution_count": 163
        }
      ]
    },
    {
      "cell_type": "code",
      "metadata": {
        "id": "wx57-JPSCxhP",
        "colab_type": "code",
        "colab": {
          "base_uri": "https://localhost:8080/",
          "height": 218
        },
        "outputId": "c8ca1ef0-f931-49fb-8c5c-d587b4ebdf50"
      },
      "source": [
        "data['reg2']"
      ],
      "execution_count": 164,
      "outputs": [
        {
          "output_type": "execute_result",
          "data": {
            "text/plain": [
              "0        {' not starts with b': ['about ', 'reliable ']...\n",
              "1        {' not starts with b': ['obliged ', 'about ', ...\n",
              "2        {' not starts with b': ['about ', 'number ', '...\n",
              "3        {' not starts with b': ['probably ', 'keyboard...\n",
              "4        {' not starts with b': [], 'not end with g': [...\n",
              "                               ...                        \n",
              "53253    {' not starts with b': ['about ', 'cable ', 'l...\n",
              "53254    {' not starts with b': ['able ', 'cable ', 'ca...\n",
              "53255    {' not starts with b': ['website ', 'assembly ...\n",
              "53256    {' not starts with b': ['incredibly ', 'proble...\n",
              "53257    {' not starts with b': ['number ', 'about ', '...\n",
              "Name: reg2, Length: 53258, dtype: object"
            ]
          },
          "metadata": {
            "tags": []
          },
          "execution_count": 164
        }
      ]
    },
    {
      "cell_type": "code",
      "metadata": {
        "id": "Jk7ox8O6DppF",
        "colab_type": "code",
        "colab": {
          "base_uri": "https://localhost:8080/",
          "height": 54
        },
        "outputId": "4cfd456f-8ff6-42de-9793-a525e5382eda"
      },
      "source": [
        "data['reviewText'][0]"
      ],
      "execution_count": 165,
      "outputs": [
        {
          "output_type": "execute_result",
          "data": {
            "text/plain": [
              "\"I bought my first HP12C in about 1984 or so, and it served me faithfully until 2002 when I lost it while travelling.  I searched for another one to replace it, but found one difficult to come by in my area.  So, I decided to buy up and purchased an HP 49G.  What a mistake!  I know that many people view the HP 49G (now 49G+) as the flagship of the HP line, but for me that was a disaster.The 49G may be powerful, but using it is extremely counterintuitive...and the manual was sketchy at best.  The 12C, on the other hand, does what I need in a way that makes good sense to me.If you are looking for a solid, reliable calculator, the HP12C may be for you.  It's programmable.  It does basic statistics well, and many business applications too.  The manual makes sense; you will be up and running in short order.I'm ready to set my 49G aside and move back to my old friend.  I didn't even have to replace the batteries in well over a decade of use!HP 12C, I'm coming home!\""
            ]
          },
          "metadata": {
            "tags": []
          },
          "execution_count": 165
        }
      ]
    },
    {
      "cell_type": "code",
      "metadata": {
        "id": "wQq0yBs4Ekse",
        "colab_type": "code",
        "colab": {}
      },
      "source": [
        ""
      ],
      "execution_count": 0,
      "outputs": []
    }
  ]
}