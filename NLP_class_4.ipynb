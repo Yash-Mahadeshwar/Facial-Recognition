{
  "nbformat": 4,
  "nbformat_minor": 0,
  "metadata": {
    "colab": {
      "name": "NLP_class_4.ipynb",
      "provenance": [],
      "include_colab_link": true
    },
    "kernelspec": {
      "name": "python3",
      "display_name": "Python 3"
    }
  },
  "cells": [
    {
      "cell_type": "markdown",
      "metadata": {
        "id": "view-in-github",
        "colab_type": "text"
      },
      "source": [
        "<a href=\"https://colab.research.google.com/github/Yash-Mahadeshwar/Facial-Recognition/blob/master/NLP_class_4.ipynb\" target=\"_parent\"><img src=\"https://colab.research.google.com/assets/colab-badge.svg\" alt=\"Open In Colab\"/></a>"
      ]
    },
    {
      "cell_type": "code",
      "metadata": {
        "id": "AezWXoqV7hhy",
        "colab_type": "code",
        "colab": {
          "base_uri": "https://localhost:8080/",
          "height": 272
        },
        "outputId": "9979b3e8-c0ca-49c1-ed0a-3634ddff630b"
      },
      "source": [
        "!pip install glove_python\n",
        "import pandas as pd\n",
        "import nltk\n",
        "from nltk.stem import WordNetLemmatizer\n",
        "from nltk.sentiment import sentiment_analyzer\n",
        "from textblob import TextBlob\n",
        "from nltk.sentiment.vader import SentimentIntensityAnalyzer\n",
        "from sklearn.metrics import confusion_matrix\n",
        "from glove import Glove"
      ],
      "execution_count": 1,
      "outputs": [
        {
          "output_type": "stream",
          "text": [
            "Collecting glove_python\n",
            "\u001b[?25l  Downloading https://files.pythonhosted.org/packages/3e/79/7e7e548dd9dcb741935d031117f4bed133276c2a047aadad42f1552d1771/glove_python-0.1.0.tar.gz (263kB)\n",
            "\u001b[K     |████████████████████████████████| 266kB 2.8MB/s \n",
            "\u001b[?25hRequirement already satisfied: numpy in /usr/local/lib/python3.6/dist-packages (from glove_python) (1.17.4)\n",
            "Requirement already satisfied: scipy in /usr/local/lib/python3.6/dist-packages (from glove_python) (1.3.3)\n",
            "Building wheels for collected packages: glove-python\n",
            "  Building wheel for glove-python (setup.py) ... \u001b[?25l\u001b[?25hdone\n",
            "  Created wheel for glove-python: filename=glove_python-0.1.0-cp36-cp36m-linux_x86_64.whl size=700322 sha256=93bc92034e02fbfc5dd405eb2e94a48ea4d0c3b9ec7500892ea9b91d5a2396b7\n",
            "  Stored in directory: /root/.cache/pip/wheels/88/4b/6d/10c0d2ad32c9d9d68beec9694a6f0b6e83ab1662a90a089a4b\n",
            "Successfully built glove-python\n",
            "Installing collected packages: glove-python\n",
            "Successfully installed glove-python-0.1.0\n"
          ],
          "name": "stdout"
        },
        {
          "output_type": "stream",
          "text": [
            "/usr/local/lib/python3.6/dist-packages/nltk/twitter/__init__.py:20: UserWarning: The twython library has not been installed. Some functionality from the twitter package will not be available.\n",
            "  warnings.warn(\"The twython library has not been installed. \"\n"
          ],
          "name": "stderr"
        }
      ]
    },
    {
      "cell_type": "code",
      "metadata": {
        "id": "S2UKczMR8TDB",
        "colab_type": "code",
        "colab": {
          "base_uri": "https://localhost:8080/",
          "height": 50
        },
        "outputId": "630afcc9-9978-42fd-f6db-c5c5eb6df1e6"
      },
      "source": [
        "nltk.download('vader_lexicon')"
      ],
      "execution_count": 2,
      "outputs": [
        {
          "output_type": "stream",
          "text": [
            "[nltk_data] Downloading package vader_lexicon to /root/nltk_data...\n"
          ],
          "name": "stdout"
        },
        {
          "output_type": "execute_result",
          "data": {
            "text/plain": [
              "True"
            ]
          },
          "metadata": {
            "tags": []
          },
          "execution_count": 2
        }
      ]
    },
    {
      "cell_type": "code",
      "metadata": {
        "id": "HRoamOl-9Ap6",
        "colab_type": "code",
        "colab": {}
      },
      "source": [
        "twitr=pd.read_csv(\"https://raw.githubusercontent.com/zfz/twitter_corpus/master/full-corpus.csv\")\n",
        "df = pd.read_json(\"http://snap.stanford.edu/data/amazon/productGraph/categoryFiles/reviews_Office_Products_5.json.gz\",lines=True)"
      ],
      "execution_count": 0,
      "outputs": []
    },
    {
      "cell_type": "code",
      "metadata": {
        "id": "dseFuq_U9M4J",
        "colab_type": "code",
        "colab": {}
      },
      "source": [
        "twitr['sentiT'].head()\n",
        "twitr = twitr[twitr['Sentiment'] != \"irrelevant\"]\n"
      ],
      "execution_count": 0,
      "outputs": []
    },
    {
      "cell_type": "code",
      "metadata": {
        "id": "BJJtuMoH-jaq",
        "colab_type": "code",
        "colab": {}
      },
      "source": [
        "def sentIntens_nltk(stri):\n",
        "  sia = SentimentIntensityAnalyzer()\n",
        "  sn = sia.polarity_scores(stri)\n",
        "  if sn['compound'] >= 0.05:\n",
        "    return \"positive\"\n",
        "  elif -0.05 < sn['compound'] < 0.05:\n",
        "    return \"neutral\"\n",
        "  else:\n",
        "    return \"negative\""
      ],
      "execution_count": 0,
      "outputs": []
    },
    {
      "cell_type": "code",
      "metadata": {
        "id": "ekIntu6o-oRs",
        "colab_type": "code",
        "colab": {}
      },
      "source": [
        "def setIntens_blob(stri):\n",
        "  senttextblob = TextBlob(stri).sentiment\n",
        "  pol = senttextblob.polarity\n",
        "  if pol > 0.0:\n",
        "    return \"positive\"\n",
        "  elif pol == 0.0:\n",
        "    return \"neutral\"\n",
        "  else:\n",
        "    return \"negative\""
      ],
      "execution_count": 0,
      "outputs": []
    },
    {
      "cell_type": "code",
      "metadata": {
        "id": "X5Mx_6Zd0xft",
        "colab_type": "code",
        "colab": {}
      },
      "source": [
        "twitr['blob'] = twitr['TweetText'].apply(setIntens_blob)\n",
        "twitr['nltk'] = twitr['TweetText'].apply(sentIntens_nltk)"
      ],
      "execution_count": 0,
      "outputs": []
    },
    {
      "cell_type": "code",
      "metadata": {
        "id": "FMADG9ND1BJ8",
        "colab_type": "code",
        "colab": {}
      },
      "source": [
        "df = df.head(100)##done for faster processing\n",
        "df['blob'] = df['reviewText'].apply(setIntens_blob)\n",
        "df['nltk'] = df['reviewText'].apply(sentIntens_nltk)"
      ],
      "execution_count": 0,
      "outputs": []
    },
    {
      "cell_type": "code",
      "metadata": {
        "id": "7UEwS21b3FzE",
        "colab_type": "code",
        "colab": {
          "base_uri": "https://localhost:8080/",
          "height": 67
        },
        "outputId": "6dfdd47a-e4e6-459e-f1d9-704b5685ec3a"
      },
      "source": [
        "confusion_matrix(twitr['blob'],twitr['Sentiment'])"
      ],
      "execution_count": 51,
      "outputs": [
        {
          "output_type": "execute_result",
          "data": {
            "text/plain": [
              "array([[ 234,  201,   38],\n",
              "       [ 171, 1213,  124],\n",
              "       [ 167,  919,  357]])"
            ]
          },
          "metadata": {
            "tags": []
          },
          "execution_count": 51
        }
      ]
    },
    {
      "cell_type": "code",
      "metadata": {
        "id": "WDeM8PAt39Rj",
        "colab_type": "code",
        "colab": {
          "base_uri": "https://localhost:8080/",
          "height": 67
        },
        "outputId": "d89acf17-e84f-486c-902b-5e8595d7a32d"
      },
      "source": [
        "confusion_matrix(twitr['nltk'],twitr['Sentiment'])"
      ],
      "execution_count": 53,
      "outputs": [
        {
          "output_type": "execute_result",
          "data": {
            "text/plain": [
              "array([[ 291,  302,   47],\n",
              "       [ 138, 1234,   99],\n",
              "       [ 143,  797,  373]])"
            ]
          },
          "metadata": {
            "tags": []
          },
          "execution_count": 53
        }
      ]
    },
    {
      "cell_type": "code",
      "metadata": {
        "id": "filntk5l4Cye",
        "colab_type": "code",
        "colab": {}
      },
      "source": [
        "from sklearn.metrics import accuracy_score"
      ],
      "execution_count": 0,
      "outputs": []
    },
    {
      "cell_type": "code",
      "metadata": {
        "id": "_99pbFBG5Hwu",
        "colab_type": "code",
        "colab": {
          "base_uri": "https://localhost:8080/",
          "height": 50
        },
        "outputId": "c1dc5df3-8528-4bc9-9e24-d084d0eeb04e"
      },
      "source": [
        "print(\"Accuracy of nltk sentiment analyser :\",accuracy_score(twitr['nltk'],twitr['Sentiment']))\n",
        "print(\"Accuracy of text blob sentiment analyser :\",accuracy_score(twitr['blob'],twitr['Sentiment']))\n"
      ],
      "execution_count": 55,
      "outputs": [
        {
          "output_type": "stream",
          "text": [
            "Accuracy of nltk sentiment analyser : 0.554322429906542\n",
            "Accuracy of text blob sentiment analyser : 0.5268691588785047\n"
          ],
          "name": "stdout"
        }
      ]
    },
    {
      "cell_type": "code",
      "metadata": {
        "id": "VTd2Rz-g57KN",
        "colab_type": "code",
        "colab": {}
      },
      "source": [
        ""
      ],
      "execution_count": 0,
      "outputs": []
    }
  ]
}